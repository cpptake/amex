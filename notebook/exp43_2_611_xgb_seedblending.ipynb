{
 "cells": [
  {
   "cell_type": "markdown",
   "id": "7028823f-8d11-494b-b422-a2664d8e3626",
   "metadata": {},
   "source": [
    "# seedbleniding\n",
    "\n",
    "exp40,exp49 のseed42,614\n"
   ]
  },
  {
   "cell_type": "code",
   "execution_count": 14,
   "id": "eed56fea-97c5-46d0-a7d0-73d6956279dd",
   "metadata": {},
   "outputs": [],
   "source": [
    "import os\n",
    "import gc\n",
    "import warnings\n",
    "warnings.filterwarnings('ignore')\n",
    "import random\n",
    "import scipy as sp\n",
    "import numpy as np\n",
    "import pandas as pd\n",
    "import joblib\n",
    "import itertools\n",
    "pd.set_option('display.max_rows', 500)\n",
    "pd.set_option('display.max_columns', 500)\n",
    "pd.set_option('display.width', 1000)\n",
    "from tqdm.auto import tqdm\n",
    "from sklearn.model_selection import StratifiedKFold, train_test_split\n",
    "from sklearn.preprocessing import LabelEncoder\n",
    "import lightgbm as lgb\n",
    "from itertools import combinations\n",
    "\n",
    "import pickle"
   ]
  },
  {
   "cell_type": "code",
   "execution_count": 21,
   "id": "fa9bd0c1-9bfb-4263-9e41-479425343358",
   "metadata": {},
   "outputs": [],
   "source": [
    "train_42 = pd.read_csv(\"../output/exp43_xgb_lagdiff_c3_hypar/oof_exp43_xgb_0.7956869117243499_5fold_seed42.csv\")\n",
    "test_42 = pd.read_csv(\"../output/exp43_xgb_lagdiff_c3_hypar/test_exp43_xgb_0.7956869117243499_5fold_seed42.csv\")\n",
    "\n",
    "train_611 = pd.read_csv(\"../output/exp43_xgb_611/oof_exp43_xgb_0.7940193621848979_5fold_seed611.csv\")\n",
    "test_611 = pd.read_csv(\"../output/exp43_xgb_611/test_exp43_xgb_0.7940193621848979_5fold_2_seed611.csv\")\n",
    "\n"
   ]
  },
  {
   "cell_type": "code",
   "execution_count": 22,
   "id": "cd748b42-3e56-45dc-9acc-83cfeb61f6dd",
   "metadata": {},
   "outputs": [
    {
     "data": {
      "text/html": [
       "<div>\n",
       "<style scoped>\n",
       "    .dataframe tbody tr th:only-of-type {\n",
       "        vertical-align: middle;\n",
       "    }\n",
       "\n",
       "    .dataframe tbody tr th {\n",
       "        vertical-align: top;\n",
       "    }\n",
       "\n",
       "    .dataframe thead th {\n",
       "        text-align: right;\n",
       "    }\n",
       "</style>\n",
       "<table border=\"1\" class=\"dataframe\">\n",
       "  <thead>\n",
       "    <tr style=\"text-align: right;\">\n",
       "      <th></th>\n",
       "      <th>Unnamed: 0</th>\n",
       "      <th>customer_ID</th>\n",
       "      <th>target</th>\n",
       "      <th>tabnet_oot</th>\n",
       "    </tr>\n",
       "  </thead>\n",
       "  <tbody>\n",
       "    <tr>\n",
       "      <th>0</th>\n",
       "      <td>0</td>\n",
       "      <td>0001812036f1558332e5c0880ecbad70b13a6f28ab04a8...</td>\n",
       "      <td>1</td>\n",
       "      <td>0.786225</td>\n",
       "    </tr>\n",
       "    <tr>\n",
       "      <th>1</th>\n",
       "      <td>1</td>\n",
       "      <td>00031e8be98bc3411f6037cbd4d3eeaf24b3ae221682b7...</td>\n",
       "      <td>0</td>\n",
       "      <td>0.011697</td>\n",
       "    </tr>\n",
       "    <tr>\n",
       "      <th>2</th>\n",
       "      <td>2</td>\n",
       "      <td>0004860c260168fcaad0734a1dfedb7ceb1a83aaac54e2...</td>\n",
       "      <td>1</td>\n",
       "      <td>0.997550</td>\n",
       "    </tr>\n",
       "    <tr>\n",
       "      <th>3</th>\n",
       "      <td>3</td>\n",
       "      <td>0004b8596c4946866d1b27a8b40488ecf49c6eae9c7bf4...</td>\n",
       "      <td>0</td>\n",
       "      <td>0.001872</td>\n",
       "    </tr>\n",
       "    <tr>\n",
       "      <th>4</th>\n",
       "      <td>4</td>\n",
       "      <td>000548e99fa24cef8377e68e602e4bd70d30500a007999...</td>\n",
       "      <td>0</td>\n",
       "      <td>0.001381</td>\n",
       "    </tr>\n",
       "  </tbody>\n",
       "</table>\n",
       "</div>"
      ],
      "text/plain": [
       "   Unnamed: 0                                        customer_ID  target  tabnet_oot\n",
       "0           0  0001812036f1558332e5c0880ecbad70b13a6f28ab04a8...       1    0.786225\n",
       "1           1  00031e8be98bc3411f6037cbd4d3eeaf24b3ae221682b7...       0    0.011697\n",
       "2           2  0004860c260168fcaad0734a1dfedb7ceb1a83aaac54e2...       1    0.997550\n",
       "3           3  0004b8596c4946866d1b27a8b40488ecf49c6eae9c7bf4...       0    0.001872\n",
       "4           4  000548e99fa24cef8377e68e602e4bd70d30500a007999...       0    0.001381"
      ]
     },
     "execution_count": 22,
     "metadata": {},
     "output_type": "execute_result"
    }
   ],
   "source": [
    "train_42.head()"
   ]
  },
  {
   "cell_type": "code",
   "execution_count": 23,
   "id": "3166621f-35b0-4580-a90c-e480f3795d63",
   "metadata": {},
   "outputs": [
    {
     "data": {
      "text/html": [
       "<div>\n",
       "<style scoped>\n",
       "    .dataframe tbody tr th:only-of-type {\n",
       "        vertical-align: middle;\n",
       "    }\n",
       "\n",
       "    .dataframe tbody tr th {\n",
       "        vertical-align: top;\n",
       "    }\n",
       "\n",
       "    .dataframe thead th {\n",
       "        text-align: right;\n",
       "    }\n",
       "</style>\n",
       "<table border=\"1\" class=\"dataframe\">\n",
       "  <thead>\n",
       "    <tr style=\"text-align: right;\">\n",
       "      <th></th>\n",
       "      <th>customer_ID</th>\n",
       "      <th>target</th>\n",
       "      <th>exp43_xgb_oof</th>\n",
       "    </tr>\n",
       "  </thead>\n",
       "  <tbody>\n",
       "    <tr>\n",
       "      <th>0</th>\n",
       "      <td>00007889e4fcd2614b6cbe7f8f3d2e5c728eca32d9eb8a...</td>\n",
       "      <td>0</td>\n",
       "      <td>0.001927</td>\n",
       "    </tr>\n",
       "    <tr>\n",
       "      <th>1</th>\n",
       "      <td>0001337ded4e1c2539d1a78ff44a457bd4a95caa55ba17...</td>\n",
       "      <td>1</td>\n",
       "      <td>0.762834</td>\n",
       "    </tr>\n",
       "    <tr>\n",
       "      <th>2</th>\n",
       "      <td>0003e58375faf90552b2861c1ccea4ee5757827cbb6ecd...</td>\n",
       "      <td>0</td>\n",
       "      <td>0.009362</td>\n",
       "    </tr>\n",
       "    <tr>\n",
       "      <th>3</th>\n",
       "      <td>0004837f0c785928a29a6f83f70f4a1c54caec483a773f...</td>\n",
       "      <td>0</td>\n",
       "      <td>0.293286</td>\n",
       "    </tr>\n",
       "    <tr>\n",
       "      <th>4</th>\n",
       "      <td>00050d84c6d26e26cd2b18c3eed83d3130c270e2361470...</td>\n",
       "      <td>0</td>\n",
       "      <td>0.001449</td>\n",
       "    </tr>\n",
       "  </tbody>\n",
       "</table>\n",
       "</div>"
      ],
      "text/plain": [
       "                                         customer_ID  target  exp43_xgb_oof\n",
       "0  00007889e4fcd2614b6cbe7f8f3d2e5c728eca32d9eb8a...       0       0.001927\n",
       "1  0001337ded4e1c2539d1a78ff44a457bd4a95caa55ba17...       1       0.762834\n",
       "2  0003e58375faf90552b2861c1ccea4ee5757827cbb6ecd...       0       0.009362\n",
       "3  0004837f0c785928a29a6f83f70f4a1c54caec483a773f...       0       0.293286\n",
       "4  00050d84c6d26e26cd2b18c3eed83d3130c270e2361470...       0       0.001449"
      ]
     },
     "execution_count": 23,
     "metadata": {},
     "output_type": "execute_result"
    }
   ],
   "source": [
    "train_611.head()"
   ]
  },
  {
   "cell_type": "code",
   "execution_count": 24,
   "id": "1082b337-ff80-4749-a992-bdb25f1fb49e",
   "metadata": {},
   "outputs": [],
   "source": [
    "oof = train_42.merge(train_611,on = \"customer_ID\")\n",
    "sub = test_42.merge(test_611,on = \"customer_ID\")\n"
   ]
  },
  {
   "cell_type": "code",
   "execution_count": 25,
   "id": "fa5fcc9b-adf3-471c-8ea0-b0039a2b2f61",
   "metadata": {},
   "outputs": [
    {
     "data": {
      "text/html": [
       "<div>\n",
       "<style scoped>\n",
       "    .dataframe tbody tr th:only-of-type {\n",
       "        vertical-align: middle;\n",
       "    }\n",
       "\n",
       "    .dataframe tbody tr th {\n",
       "        vertical-align: top;\n",
       "    }\n",
       "\n",
       "    .dataframe thead th {\n",
       "        text-align: right;\n",
       "    }\n",
       "</style>\n",
       "<table border=\"1\" class=\"dataframe\">\n",
       "  <thead>\n",
       "    <tr style=\"text-align: right;\">\n",
       "      <th></th>\n",
       "      <th>customer_ID</th>\n",
       "      <th>prediction</th>\n",
       "      <th>exp43_xgb_sub</th>\n",
       "    </tr>\n",
       "  </thead>\n",
       "  <tbody>\n",
       "    <tr>\n",
       "      <th>0</th>\n",
       "      <td>00000469ba478561f23a92a868bd366de6f6527a684c9a...</td>\n",
       "      <td>0.027302</td>\n",
       "      <td>0.031097</td>\n",
       "    </tr>\n",
       "    <tr>\n",
       "      <th>1</th>\n",
       "      <td>00001bf2e77ff879fab36aa4fac689b9ba411dae63ae39...</td>\n",
       "      <td>0.000748</td>\n",
       "      <td>0.000889</td>\n",
       "    </tr>\n",
       "    <tr>\n",
       "      <th>2</th>\n",
       "      <td>0000210045da4f81e5f122c6bde5c2a617d03eef67f82c...</td>\n",
       "      <td>0.032421</td>\n",
       "      <td>0.029894</td>\n",
       "    </tr>\n",
       "    <tr>\n",
       "      <th>3</th>\n",
       "      <td>00003b41e58ede33b8daf61ab56d9952f17c9ad1c3976c...</td>\n",
       "      <td>0.226533</td>\n",
       "      <td>0.227289</td>\n",
       "    </tr>\n",
       "    <tr>\n",
       "      <th>4</th>\n",
       "      <td>00004b22eaeeeb0ec976890c1d9bfc14fd9427e98c4ee9...</td>\n",
       "      <td>0.895852</td>\n",
       "      <td>0.881339</td>\n",
       "    </tr>\n",
       "  </tbody>\n",
       "</table>\n",
       "</div>"
      ],
      "text/plain": [
       "                                         customer_ID  prediction  exp43_xgb_sub\n",
       "0  00000469ba478561f23a92a868bd366de6f6527a684c9a...    0.027302       0.031097\n",
       "1  00001bf2e77ff879fab36aa4fac689b9ba411dae63ae39...    0.000748       0.000889\n",
       "2  0000210045da4f81e5f122c6bde5c2a617d03eef67f82c...    0.032421       0.029894\n",
       "3  00003b41e58ede33b8daf61ab56d9952f17c9ad1c3976c...    0.226533       0.227289\n",
       "4  00004b22eaeeeb0ec976890c1d9bfc14fd9427e98c4ee9...    0.895852       0.881339"
      ]
     },
     "execution_count": 25,
     "metadata": {},
     "output_type": "execute_result"
    }
   ],
   "source": [
    "sub.head()"
   ]
  },
  {
   "cell_type": "code",
   "execution_count": 26,
   "id": "c94295f0-9753-4504-9079-4c820acfd93e",
   "metadata": {},
   "outputs": [
    {
     "data": {
      "text/html": [
       "<div>\n",
       "<style scoped>\n",
       "    .dataframe tbody tr th:only-of-type {\n",
       "        vertical-align: middle;\n",
       "    }\n",
       "\n",
       "    .dataframe tbody tr th {\n",
       "        vertical-align: top;\n",
       "    }\n",
       "\n",
       "    .dataframe thead th {\n",
       "        text-align: right;\n",
       "    }\n",
       "</style>\n",
       "<table border=\"1\" class=\"dataframe\">\n",
       "  <thead>\n",
       "    <tr style=\"text-align: right;\">\n",
       "      <th></th>\n",
       "      <th>Unnamed: 0</th>\n",
       "      <th>customer_ID</th>\n",
       "      <th>target_x</th>\n",
       "      <th>tabnet_oot</th>\n",
       "      <th>target_y</th>\n",
       "      <th>exp43_xgb_oof</th>\n",
       "    </tr>\n",
       "  </thead>\n",
       "  <tbody>\n",
       "    <tr>\n",
       "      <th>0</th>\n",
       "      <td>0</td>\n",
       "      <td>0001812036f1558332e5c0880ecbad70b13a6f28ab04a8...</td>\n",
       "      <td>1</td>\n",
       "      <td>0.786225</td>\n",
       "      <td>1</td>\n",
       "      <td>0.811201</td>\n",
       "    </tr>\n",
       "    <tr>\n",
       "      <th>1</th>\n",
       "      <td>1</td>\n",
       "      <td>00031e8be98bc3411f6037cbd4d3eeaf24b3ae221682b7...</td>\n",
       "      <td>0</td>\n",
       "      <td>0.011697</td>\n",
       "      <td>0</td>\n",
       "      <td>0.010708</td>\n",
       "    </tr>\n",
       "    <tr>\n",
       "      <th>2</th>\n",
       "      <td>2</td>\n",
       "      <td>0004860c260168fcaad0734a1dfedb7ceb1a83aaac54e2...</td>\n",
       "      <td>1</td>\n",
       "      <td>0.997550</td>\n",
       "      <td>1</td>\n",
       "      <td>0.996767</td>\n",
       "    </tr>\n",
       "    <tr>\n",
       "      <th>3</th>\n",
       "      <td>3</td>\n",
       "      <td>0004b8596c4946866d1b27a8b40488ecf49c6eae9c7bf4...</td>\n",
       "      <td>0</td>\n",
       "      <td>0.001872</td>\n",
       "      <td>0</td>\n",
       "      <td>0.001518</td>\n",
       "    </tr>\n",
       "    <tr>\n",
       "      <th>4</th>\n",
       "      <td>4</td>\n",
       "      <td>000548e99fa24cef8377e68e602e4bd70d30500a007999...</td>\n",
       "      <td>0</td>\n",
       "      <td>0.001381</td>\n",
       "      <td>0</td>\n",
       "      <td>0.001314</td>\n",
       "    </tr>\n",
       "  </tbody>\n",
       "</table>\n",
       "</div>"
      ],
      "text/plain": [
       "   Unnamed: 0                                        customer_ID  target_x  tabnet_oot  target_y  exp43_xgb_oof\n",
       "0           0  0001812036f1558332e5c0880ecbad70b13a6f28ab04a8...         1    0.786225         1       0.811201\n",
       "1           1  00031e8be98bc3411f6037cbd4d3eeaf24b3ae221682b7...         0    0.011697         0       0.010708\n",
       "2           2  0004860c260168fcaad0734a1dfedb7ceb1a83aaac54e2...         1    0.997550         1       0.996767\n",
       "3           3  0004b8596c4946866d1b27a8b40488ecf49c6eae9c7bf4...         0    0.001872         0       0.001518\n",
       "4           4  000548e99fa24cef8377e68e602e4bd70d30500a007999...         0    0.001381         0       0.001314"
      ]
     },
     "execution_count": 26,
     "metadata": {},
     "output_type": "execute_result"
    }
   ],
   "source": [
    "oof.head()"
   ]
  },
  {
   "cell_type": "code",
   "execution_count": 29,
   "id": "a89d797a-2562-418c-8dc5-4f8d78cc8e2b",
   "metadata": {},
   "outputs": [],
   "source": [
    "\n",
    "oof[\"exp43_seedblend_oof\"] = (oof[\"tabnet_oot\"] + oof[\"exp43_xgb_oof\"])/2\n",
    "sub[\"exp43_seedblend_sub\"] = (sub[\"prediction\"] + sub[\"exp43_xgb_sub\"])/2\n"
   ]
  },
  {
   "cell_type": "code",
   "execution_count": 30,
   "id": "5eb5ddc9-499a-4643-b1fe-58190973a268",
   "metadata": {},
   "outputs": [
    {
     "name": "stdout",
     "output_type": "stream",
     "text": [
      "CV :  0.7949781307720436\n"
     ]
    }
   ],
   "source": [
    "def amex_metric(y_true, y_pred):\n",
    "    labels = np.transpose(np.array([y_true, y_pred]))\n",
    "    labels = labels[labels[:, 1].argsort()[::-1]]\n",
    "    weights = np.where(labels[:,0]==0, 20, 1)\n",
    "    cut_vals = labels[np.cumsum(weights) <= int(0.04 * np.sum(weights))]\n",
    "    top_four = np.sum(cut_vals[:,0]) / np.sum(labels[:,0])\n",
    "    gini = [0,0]\n",
    "    for i in [1,0]:\n",
    "        labels = np.transpose(np.array([y_true, y_pred]))\n",
    "        labels = labels[labels[:, i].argsort()[::-1]]\n",
    "        weight = np.where(labels[:,0]==0, 20, 1)\n",
    "        weight_random = np.cumsum(weight / np.sum(weight))\n",
    "        total_pos = np.sum(labels[:, 0] *  weight)\n",
    "        cum_pos_found = np.cumsum(labels[:, 0] * weight)\n",
    "        lorentz = cum_pos_found / total_pos\n",
    "        gini[i] = np.sum((lorentz - weight_random) * weight)\n",
    "    return 0.5 * (gini[1]/gini[0] + top_four)\n",
    "\n",
    "\n",
    "score = amex_metric(oof[\"target_x\"], oof[\"exp43_seedblend_oof\"])\n",
    "print(\"CV : \",score)"
   ]
  },
  {
   "cell_type": "code",
   "execution_count": 31,
   "id": "b802789e-1ef7-41ac-8240-56a310dd60ff",
   "metadata": {},
   "outputs": [],
   "source": [
    "oof[[\"customer_ID\",\"exp43_seedblend_oof\"]].to_csv(f\"exp43_oof_xgb_{score}_seedblend.csv\",index = False)\n",
    "sub[[\"customer_ID\",\"exp43_seedblend_sub\"]].to_csv(f\"exp43_sub_lxgb_{score}_seedblend.csv\",index = False)\n"
   ]
  },
  {
   "cell_type": "code",
   "execution_count": 33,
   "id": "4b4ed482-df71-4556-a7aa-e6f4c4a928ba",
   "metadata": {},
   "outputs": [
    {
     "data": {
      "text/plain": [
       "0.795094661446722"
      ]
     },
     "execution_count": 33,
     "metadata": {},
     "output_type": "execute_result"
    }
   ],
   "source": [
    "\n",
    "amex_metric(oof[\"target_x\"], oof[\"tabnet_oot\"])"
   ]
  },
  {
   "cell_type": "code",
   "execution_count": null,
   "id": "e8ec12db-9040-43fe-9463-d0934229acfd",
   "metadata": {},
   "outputs": [],
   "source": []
  }
 ],
 "metadata": {
  "kernelspec": {
   "display_name": "amex",
   "language": "python",
   "name": "amex"
  },
  "language_info": {
   "codemirror_mode": {
    "name": "ipython",
    "version": 3
   },
   "file_extension": ".py",
   "mimetype": "text/x-python",
   "name": "python",
   "nbconvert_exporter": "python",
   "pygments_lexer": "ipython3",
   "version": "3.7.13"
  }
 },
 "nbformat": 4,
 "nbformat_minor": 5
}
