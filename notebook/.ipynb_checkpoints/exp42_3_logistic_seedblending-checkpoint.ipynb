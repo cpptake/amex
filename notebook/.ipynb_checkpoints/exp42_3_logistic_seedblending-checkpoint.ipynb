{
 "cells": [
  {
   "cell_type": "markdown",
   "id": "7028823f-8d11-494b-b422-a2664d8e3626",
   "metadata": {},
   "source": [
    "# seedbleniding\n",
    "\n",
    "exp40,exp49 のseed42,614\n"
   ]
  },
  {
   "cell_type": "code",
   "execution_count": 1,
   "id": "eed56fea-97c5-46d0-a7d0-73d6956279dd",
   "metadata": {},
   "outputs": [],
   "source": [
    "import os\n",
    "import gc\n",
    "import warnings\n",
    "warnings.filterwarnings('ignore')\n",
    "import random\n",
    "import scipy as sp\n",
    "import numpy as np\n",
    "import pandas as pd\n",
    "import joblib\n",
    "import itertools\n",
    "pd.set_option('display.max_rows', 500)\n",
    "pd.set_option('display.max_columns', 500)\n",
    "pd.set_option('display.width', 1000)\n",
    "from tqdm.auto import tqdm\n",
    "from sklearn.model_selection import StratifiedKFold, train_test_split\n",
    "from sklearn.preprocessing import LabelEncoder\n",
    "import lightgbm as lgb\n",
    "from itertools import combinations\n",
    "\n",
    "import pickle"
   ]
  },
  {
   "cell_type": "code",
   "execution_count": 2,
   "id": "fa9bd0c1-9bfb-4263-9e41-479425343358",
   "metadata": {},
   "outputs": [],
   "source": [
    "train_42 = pd.read_csv(\"../output/exp51_lgb_lagdiff_c3_statedate/oof_exp51_lgb_0.7974057306116666_5fold_seed42.csv\")\n",
    "test_42 = pd.read_csv(\"../output/exp51_lgb_lagdiff_c3_statedate/test_exp51_lgb_0.7974057306116666_5fold_seed42.csv\")\n",
    "\n",
    "train_615 = pd.read_csv(\"../output/exp51_615_lgb_lagdiff_c3_statedate/oof_exp51_lgb_0.7965816551786491_5fold_seed615.csv\")\n",
    "test_615 = pd.read_csv(\"../output/exp51_615_lgb_lagdiff_c3_statedate/test_exp51_lgb_0.7965816551786491_5fold_seed615.csv\")\n",
    "\n"
   ]
  },
  {
   "cell_type": "code",
   "execution_count": 3,
   "id": "cd748b42-3e56-45dc-9acc-83cfeb61f6dd",
   "metadata": {},
   "outputs": [
    {
     "data": {
      "text/html": [
       "<div>\n",
       "<style scoped>\n",
       "    .dataframe tbody tr th:only-of-type {\n",
       "        vertical-align: middle;\n",
       "    }\n",
       "\n",
       "    .dataframe tbody tr th {\n",
       "        vertical-align: top;\n",
       "    }\n",
       "\n",
       "    .dataframe thead th {\n",
       "        text-align: right;\n",
       "    }\n",
       "</style>\n",
       "<table border=\"1\" class=\"dataframe\">\n",
       "  <thead>\n",
       "    <tr style=\"text-align: right;\">\n",
       "      <th></th>\n",
       "      <th>customer_ID</th>\n",
       "      <th>target</th>\n",
       "      <th>tabnet_oot</th>\n",
       "    </tr>\n",
       "  </thead>\n",
       "  <tbody>\n",
       "    <tr>\n",
       "      <th>0</th>\n",
       "      <td>0001812036f1558332e5c0880ecbad70b13a6f28ab04a8...</td>\n",
       "      <td>1</td>\n",
       "      <td>0.776060</td>\n",
       "    </tr>\n",
       "    <tr>\n",
       "      <th>1</th>\n",
       "      <td>00031e8be98bc3411f6037cbd4d3eeaf24b3ae221682b7...</td>\n",
       "      <td>0</td>\n",
       "      <td>0.016929</td>\n",
       "    </tr>\n",
       "    <tr>\n",
       "      <th>2</th>\n",
       "      <td>0004860c260168fcaad0734a1dfedb7ceb1a83aaac54e2...</td>\n",
       "      <td>1</td>\n",
       "      <td>0.998247</td>\n",
       "    </tr>\n",
       "    <tr>\n",
       "      <th>3</th>\n",
       "      <td>0004b8596c4946866d1b27a8b40488ecf49c6eae9c7bf4...</td>\n",
       "      <td>0</td>\n",
       "      <td>0.002437</td>\n",
       "    </tr>\n",
       "    <tr>\n",
       "      <th>4</th>\n",
       "      <td>000548e99fa24cef8377e68e602e4bd70d30500a007999...</td>\n",
       "      <td>0</td>\n",
       "      <td>0.001118</td>\n",
       "    </tr>\n",
       "  </tbody>\n",
       "</table>\n",
       "</div>"
      ],
      "text/plain": [
       "                                         customer_ID  target  tabnet_oot\n",
       "0  0001812036f1558332e5c0880ecbad70b13a6f28ab04a8...       1    0.776060\n",
       "1  00031e8be98bc3411f6037cbd4d3eeaf24b3ae221682b7...       0    0.016929\n",
       "2  0004860c260168fcaad0734a1dfedb7ceb1a83aaac54e2...       1    0.998247\n",
       "3  0004b8596c4946866d1b27a8b40488ecf49c6eae9c7bf4...       0    0.002437\n",
       "4  000548e99fa24cef8377e68e602e4bd70d30500a007999...       0    0.001118"
      ]
     },
     "execution_count": 3,
     "metadata": {},
     "output_type": "execute_result"
    }
   ],
   "source": [
    "train_42.head()"
   ]
  },
  {
   "cell_type": "code",
   "execution_count": 4,
   "id": "3166621f-35b0-4580-a90c-e480f3795d63",
   "metadata": {},
   "outputs": [
    {
     "data": {
      "text/html": [
       "<div>\n",
       "<style scoped>\n",
       "    .dataframe tbody tr th:only-of-type {\n",
       "        vertical-align: middle;\n",
       "    }\n",
       "\n",
       "    .dataframe tbody tr th {\n",
       "        vertical-align: top;\n",
       "    }\n",
       "\n",
       "    .dataframe thead th {\n",
       "        text-align: right;\n",
       "    }\n",
       "</style>\n",
       "<table border=\"1\" class=\"dataframe\">\n",
       "  <thead>\n",
       "    <tr style=\"text-align: right;\">\n",
       "      <th></th>\n",
       "      <th>customer_ID</th>\n",
       "      <th>target</th>\n",
       "      <th>tabnet_oot</th>\n",
       "    </tr>\n",
       "  </thead>\n",
       "  <tbody>\n",
       "    <tr>\n",
       "      <th>0</th>\n",
       "      <td>0000099d6bd597052cdcda90ffabf56573fe9d7c79be5f...</td>\n",
       "      <td>0</td>\n",
       "      <td>0.000358</td>\n",
       "    </tr>\n",
       "    <tr>\n",
       "      <th>1</th>\n",
       "      <td>00001b22f846c82c51f6e3958ccd81970162bae8b007e8...</td>\n",
       "      <td>0</td>\n",
       "      <td>0.000993</td>\n",
       "    </tr>\n",
       "    <tr>\n",
       "      <th>2</th>\n",
       "      <td>0000d17a1447b25a01e42e1ac56b091bb7cbb06317be4c...</td>\n",
       "      <td>0</td>\n",
       "      <td>0.001775</td>\n",
       "    </tr>\n",
       "    <tr>\n",
       "      <th>3</th>\n",
       "      <td>0001812036f1558332e5c0880ecbad70b13a6f28ab04a8...</td>\n",
       "      <td>1</td>\n",
       "      <td>0.786777</td>\n",
       "    </tr>\n",
       "    <tr>\n",
       "      <th>4</th>\n",
       "      <td>00039533fe0b61bcf1ec0d1aefe6acb5469ea0f0d1b0ad...</td>\n",
       "      <td>1</td>\n",
       "      <td>0.777778</td>\n",
       "    </tr>\n",
       "  </tbody>\n",
       "</table>\n",
       "</div>"
      ],
      "text/plain": [
       "                                         customer_ID  target  tabnet_oot\n",
       "0  0000099d6bd597052cdcda90ffabf56573fe9d7c79be5f...       0    0.000358\n",
       "1  00001b22f846c82c51f6e3958ccd81970162bae8b007e8...       0    0.000993\n",
       "2  0000d17a1447b25a01e42e1ac56b091bb7cbb06317be4c...       0    0.001775\n",
       "3  0001812036f1558332e5c0880ecbad70b13a6f28ab04a8...       1    0.786777\n",
       "4  00039533fe0b61bcf1ec0d1aefe6acb5469ea0f0d1b0ad...       1    0.777778"
      ]
     },
     "execution_count": 4,
     "metadata": {},
     "output_type": "execute_result"
    }
   ],
   "source": [
    "train_615.head()"
   ]
  },
  {
   "cell_type": "code",
   "execution_count": 6,
   "id": "1082b337-ff80-4749-a992-bdb25f1fb49e",
   "metadata": {},
   "outputs": [],
   "source": [
    "oof = train_42.merge(train_615,on = \"customer_ID\")\n",
    "sub = test_42.merge(test_615,on = \"customer_ID\")\n"
   ]
  },
  {
   "cell_type": "code",
   "execution_count": 7,
   "id": "fa5fcc9b-adf3-471c-8ea0-b0039a2b2f61",
   "metadata": {},
   "outputs": [
    {
     "data": {
      "text/html": [
       "<div>\n",
       "<style scoped>\n",
       "    .dataframe tbody tr th:only-of-type {\n",
       "        vertical-align: middle;\n",
       "    }\n",
       "\n",
       "    .dataframe tbody tr th {\n",
       "        vertical-align: top;\n",
       "    }\n",
       "\n",
       "    .dataframe thead th {\n",
       "        text-align: right;\n",
       "    }\n",
       "</style>\n",
       "<table border=\"1\" class=\"dataframe\">\n",
       "  <thead>\n",
       "    <tr style=\"text-align: right;\">\n",
       "      <th></th>\n",
       "      <th>customer_ID</th>\n",
       "      <th>prediction_x</th>\n",
       "      <th>prediction_y</th>\n",
       "    </tr>\n",
       "  </thead>\n",
       "  <tbody>\n",
       "    <tr>\n",
       "      <th>0</th>\n",
       "      <td>00000469ba478561f23a92a868bd366de6f6527a684c9a...</td>\n",
       "      <td>0.025009</td>\n",
       "      <td>0.024471</td>\n",
       "    </tr>\n",
       "    <tr>\n",
       "      <th>1</th>\n",
       "      <td>00001bf2e77ff879fab36aa4fac689b9ba411dae63ae39...</td>\n",
       "      <td>0.000833</td>\n",
       "      <td>0.000896</td>\n",
       "    </tr>\n",
       "    <tr>\n",
       "      <th>2</th>\n",
       "      <td>0000210045da4f81e5f122c6bde5c2a617d03eef67f82c...</td>\n",
       "      <td>0.032796</td>\n",
       "      <td>0.030549</td>\n",
       "    </tr>\n",
       "    <tr>\n",
       "      <th>3</th>\n",
       "      <td>00003b41e58ede33b8daf61ab56d9952f17c9ad1c3976c...</td>\n",
       "      <td>0.226481</td>\n",
       "      <td>0.210089</td>\n",
       "    </tr>\n",
       "    <tr>\n",
       "      <th>4</th>\n",
       "      <td>00004b22eaeeeb0ec976890c1d9bfc14fd9427e98c4ee9...</td>\n",
       "      <td>0.855747</td>\n",
       "      <td>0.858729</td>\n",
       "    </tr>\n",
       "  </tbody>\n",
       "</table>\n",
       "</div>"
      ],
      "text/plain": [
       "                                         customer_ID  prediction_x  prediction_y\n",
       "0  00000469ba478561f23a92a868bd366de6f6527a684c9a...      0.025009      0.024471\n",
       "1  00001bf2e77ff879fab36aa4fac689b9ba411dae63ae39...      0.000833      0.000896\n",
       "2  0000210045da4f81e5f122c6bde5c2a617d03eef67f82c...      0.032796      0.030549\n",
       "3  00003b41e58ede33b8daf61ab56d9952f17c9ad1c3976c...      0.226481      0.210089\n",
       "4  00004b22eaeeeb0ec976890c1d9bfc14fd9427e98c4ee9...      0.855747      0.858729"
      ]
     },
     "execution_count": 7,
     "metadata": {},
     "output_type": "execute_result"
    }
   ],
   "source": [
    "sub.head()"
   ]
  },
  {
   "cell_type": "code",
   "execution_count": 8,
   "id": "c94295f0-9753-4504-9079-4c820acfd93e",
   "metadata": {},
   "outputs": [
    {
     "data": {
      "text/html": [
       "<div>\n",
       "<style scoped>\n",
       "    .dataframe tbody tr th:only-of-type {\n",
       "        vertical-align: middle;\n",
       "    }\n",
       "\n",
       "    .dataframe tbody tr th {\n",
       "        vertical-align: top;\n",
       "    }\n",
       "\n",
       "    .dataframe thead th {\n",
       "        text-align: right;\n",
       "    }\n",
       "</style>\n",
       "<table border=\"1\" class=\"dataframe\">\n",
       "  <thead>\n",
       "    <tr style=\"text-align: right;\">\n",
       "      <th></th>\n",
       "      <th>customer_ID</th>\n",
       "      <th>target_x</th>\n",
       "      <th>tabnet_oot_x</th>\n",
       "      <th>target_y</th>\n",
       "      <th>tabnet_oot_y</th>\n",
       "    </tr>\n",
       "  </thead>\n",
       "  <tbody>\n",
       "    <tr>\n",
       "      <th>0</th>\n",
       "      <td>0001812036f1558332e5c0880ecbad70b13a6f28ab04a8...</td>\n",
       "      <td>1</td>\n",
       "      <td>0.776060</td>\n",
       "      <td>1</td>\n",
       "      <td>0.786777</td>\n",
       "    </tr>\n",
       "    <tr>\n",
       "      <th>1</th>\n",
       "      <td>00031e8be98bc3411f6037cbd4d3eeaf24b3ae221682b7...</td>\n",
       "      <td>0</td>\n",
       "      <td>0.016929</td>\n",
       "      <td>0</td>\n",
       "      <td>0.014767</td>\n",
       "    </tr>\n",
       "    <tr>\n",
       "      <th>2</th>\n",
       "      <td>0004860c260168fcaad0734a1dfedb7ceb1a83aaac54e2...</td>\n",
       "      <td>1</td>\n",
       "      <td>0.998247</td>\n",
       "      <td>1</td>\n",
       "      <td>0.998272</td>\n",
       "    </tr>\n",
       "    <tr>\n",
       "      <th>3</th>\n",
       "      <td>0004b8596c4946866d1b27a8b40488ecf49c6eae9c7bf4...</td>\n",
       "      <td>0</td>\n",
       "      <td>0.002437</td>\n",
       "      <td>0</td>\n",
       "      <td>0.001818</td>\n",
       "    </tr>\n",
       "    <tr>\n",
       "      <th>4</th>\n",
       "      <td>000548e99fa24cef8377e68e602e4bd70d30500a007999...</td>\n",
       "      <td>0</td>\n",
       "      <td>0.001118</td>\n",
       "      <td>0</td>\n",
       "      <td>0.001266</td>\n",
       "    </tr>\n",
       "  </tbody>\n",
       "</table>\n",
       "</div>"
      ],
      "text/plain": [
       "                                         customer_ID  target_x  tabnet_oot_x  target_y  tabnet_oot_y\n",
       "0  0001812036f1558332e5c0880ecbad70b13a6f28ab04a8...         1      0.776060         1      0.786777\n",
       "1  00031e8be98bc3411f6037cbd4d3eeaf24b3ae221682b7...         0      0.016929         0      0.014767\n",
       "2  0004860c260168fcaad0734a1dfedb7ceb1a83aaac54e2...         1      0.998247         1      0.998272\n",
       "3  0004b8596c4946866d1b27a8b40488ecf49c6eae9c7bf4...         0      0.002437         0      0.001818\n",
       "4  000548e99fa24cef8377e68e602e4bd70d30500a007999...         0      0.001118         0      0.001266"
      ]
     },
     "execution_count": 8,
     "metadata": {},
     "output_type": "execute_result"
    }
   ],
   "source": [
    "oof.head()"
   ]
  },
  {
   "cell_type": "code",
   "execution_count": 11,
   "id": "a89d797a-2562-418c-8dc5-4f8d78cc8e2b",
   "metadata": {},
   "outputs": [],
   "source": [
    "oof[\"exp51_42+615_oof\"] = (oof[\"tabnet_oot_x\"] + oof[\"tabnet_oot_y\"])/2\n",
    "sub[\"prediction\"] = (sub[\"prediction_x\"] + sub[\"prediction_y\"])/2 "
   ]
  },
  {
   "cell_type": "code",
   "execution_count": 15,
   "id": "5eb5ddc9-499a-4643-b1fe-58190973a268",
   "metadata": {},
   "outputs": [
    {
     "name": "stdout",
     "output_type": "stream",
     "text": [
      "CV :  0.7977581573285044\n"
     ]
    }
   ],
   "source": [
    "def amex_metric(y_true, y_pred):\n",
    "    labels = np.transpose(np.array([y_true, y_pred]))\n",
    "    labels = labels[labels[:, 1].argsort()[::-1]]\n",
    "    weights = np.where(labels[:,0]==0, 20, 1)\n",
    "    cut_vals = labels[np.cumsum(weights) <= int(0.04 * np.sum(weights))]\n",
    "    top_four = np.sum(cut_vals[:,0]) / np.sum(labels[:,0])\n",
    "    gini = [0,0]\n",
    "    for i in [1,0]:\n",
    "        labels = np.transpose(np.array([y_true, y_pred]))\n",
    "        labels = labels[labels[:, i].argsort()[::-1]]\n",
    "        weight = np.where(labels[:,0]==0, 20, 1)\n",
    "        weight_random = np.cumsum(weight / np.sum(weight))\n",
    "        total_pos = np.sum(labels[:, 0] *  weight)\n",
    "        cum_pos_found = np.cumsum(labels[:, 0] * weight)\n",
    "        lorentz = cum_pos_found / total_pos\n",
    "        gini[i] = np.sum((lorentz - weight_random) * weight)\n",
    "    return 0.5 * (gini[1]/gini[0] + top_four)\n",
    "\n",
    "\n",
    "score = amex_metric(oof[\"target_x\"], oof[\"exp51_42+615_oof\"])\n",
    "print(\"CV : \",score)"
   ]
  },
  {
   "cell_type": "code",
   "execution_count": 16,
   "id": "b802789e-1ef7-41ac-8240-56a310dd60ff",
   "metadata": {},
   "outputs": [],
   "source": [
    "oof[[\"customer_ID\",\"exp51_42+615_oof\"]].to_csv(f\"exp5_oof_lgb_{score}_seedblend.csv\",index = False)\n",
    "sub[[\"customer_ID\",\"prediction\"]].to_csv(f\"exp51_sub_lgb_{score}_seedblend.csv\",index = False)\n"
   ]
  },
  {
   "cell_type": "code",
   "execution_count": 14,
   "id": "4b4ed482-df71-4556-a7aa-e6f4c4a928ba",
   "metadata": {},
   "outputs": [
    {
     "data": {
      "text/plain": [
       "0.7965816551786491"
      ]
     },
     "execution_count": 14,
     "metadata": {},
     "output_type": "execute_result"
    }
   ],
   "source": [
    "\n",
    "amex_metric(oof[\"target_x\"], oof[\"tabnet_oot_y\"])"
   ]
  },
  {
   "cell_type": "code",
   "execution_count": null,
   "id": "e8ec12db-9040-43fe-9463-d0934229acfd",
   "metadata": {},
   "outputs": [],
   "source": []
  }
 ],
 "metadata": {
  "kernelspec": {
   "display_name": "amex",
   "language": "python",
   "name": "amex"
  },
  "language_info": {
   "codemirror_mode": {
    "name": "ipython",
    "version": 3
   },
   "file_extension": ".py",
   "mimetype": "text/x-python",
   "name": "python",
   "nbconvert_exporter": "python",
   "pygments_lexer": "ipython3",
   "version": "3.7.13"
  }
 },
 "nbformat": 4,
 "nbformat_minor": 5
}
