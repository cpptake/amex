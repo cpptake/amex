{
 "cells": [
  {
   "cell_type": "markdown",
   "id": "32eb9d64-4e1a-4530-b49f-47cde07b2ddf",
   "metadata": {},
   "source": [
    "\n",
    "# exp07データのCostomerIDを変更"
   ]
  },
  {
   "cell_type": "code",
   "execution_count": 15,
   "id": "545c6b05-bead-410a-a213-aba8a9fca78f",
   "metadata": {},
   "outputs": [],
   "source": [
    "import gc\n",
    "import warnings\n",
    "warnings.filterwarnings('ignore')\n",
    "import scipy as sp\n",
    "import numpy as np\n",
    "import pandas as pd\n",
    "pd.set_option('display.max_rows', 500)\n",
    "pd.set_option('display.max_columns', 500)\n",
    "pd.set_option('display.width', 1000)\n",
    "from tqdm.auto import tqdm\n",
    "import itertools\n"
   ]
  },
  {
   "cell_type": "markdown",
   "id": "3bbdc7f5-43d6-48b1-94c4-6a1cb3357456",
   "metadata": {},
   "source": [
    "# imoirt data"
   ]
  },
  {
   "cell_type": "code",
   "execution_count": 4,
   "id": "a114aac1-d47f-44dd-8d96-88af687e760b",
   "metadata": {},
   "outputs": [
    {
     "data": {
      "text/html": [
       "<div>\n",
       "<style scoped>\n",
       "    .dataframe tbody tr th:only-of-type {\n",
       "        vertical-align: middle;\n",
       "    }\n",
       "\n",
       "    .dataframe tbody tr th {\n",
       "        vertical-align: top;\n",
       "    }\n",
       "\n",
       "    .dataframe thead th {\n",
       "        text-align: right;\n",
       "    }\n",
       "</style>\n",
       "<table border=\"1\" class=\"dataframe\">\n",
       "  <thead>\n",
       "    <tr style=\"text-align: right;\">\n",
       "      <th></th>\n",
       "      <th>customer_ID</th>\n",
       "      <th>prediction</th>\n",
       "    </tr>\n",
       "  </thead>\n",
       "  <tbody>\n",
       "    <tr>\n",
       "      <th>0</th>\n",
       "      <td>-9.223277e+18</td>\n",
       "      <td>0.006342</td>\n",
       "    </tr>\n",
       "    <tr>\n",
       "      <th>1</th>\n",
       "      <td>-9.223220e+18</td>\n",
       "      <td>0.003303</td>\n",
       "    </tr>\n",
       "    <tr>\n",
       "      <th>2</th>\n",
       "      <td>-9.223219e+18</td>\n",
       "      <td>0.010416</td>\n",
       "    </tr>\n",
       "    <tr>\n",
       "      <th>3</th>\n",
       "      <td>-9.223203e+18</td>\n",
       "      <td>0.012527</td>\n",
       "    </tr>\n",
       "    <tr>\n",
       "      <th>4</th>\n",
       "      <td>-9.223190e+18</td>\n",
       "      <td>0.002053</td>\n",
       "    </tr>\n",
       "  </tbody>\n",
       "</table>\n",
       "</div>"
      ],
      "text/plain": [
       "    customer_ID  prediction\n",
       "0 -9.223277e+18    0.006342\n",
       "1 -9.223220e+18    0.003303\n",
       "2 -9.223219e+18    0.010416\n",
       "3 -9.223203e+18    0.012527\n",
       "4 -9.223190e+18    0.002053"
      ]
     },
     "execution_count": 4,
     "metadata": {},
     "output_type": "execute_result"
    }
   ],
   "source": [
    "train = pd.read_csv('../output/exp07 LGB feature1500/oof_07_lgb_dart_baseline_5fold_seed46.csv')\n",
    "test = pd.read_csv('../output/exp07 LGB feature1500/test_lgb_dart_baseline_5fold_seed46.csv')\n",
    "\n",
    "test_ID_list = pd.read_parquet('../feature/costomerID_hex_list/test_ID_list.parquet')\n",
    "train_ID_list = pd.read_parquet('../feature/costomerID_hex_list/train_ID_list.parquet')\n",
    "\n",
    "\n",
    "test.head()"
   ]
  },
  {
   "cell_type": "code",
   "execution_count": 5,
   "id": "9142c964-e376-4cde-94e2-c3e17a86adab",
   "metadata": {},
   "outputs": [
    {
     "data": {
      "text/html": [
       "<div>\n",
       "<style scoped>\n",
       "    .dataframe tbody tr th:only-of-type {\n",
       "        vertical-align: middle;\n",
       "    }\n",
       "\n",
       "    .dataframe tbody tr th {\n",
       "        vertical-align: top;\n",
       "    }\n",
       "\n",
       "    .dataframe thead th {\n",
       "        text-align: right;\n",
       "    }\n",
       "</style>\n",
       "<table border=\"1\" class=\"dataframe\">\n",
       "  <thead>\n",
       "    <tr style=\"text-align: right;\">\n",
       "      <th></th>\n",
       "      <th>customer_ID2</th>\n",
       "      <th>customer_ID</th>\n",
       "    </tr>\n",
       "  </thead>\n",
       "  <tbody>\n",
       "    <tr>\n",
       "      <th>0</th>\n",
       "      <td>00000469ba478561f23a92a868bd366de6f6527a684c9a...</td>\n",
       "      <td>8717704911770597815</td>\n",
       "    </tr>\n",
       "    <tr>\n",
       "      <th>1</th>\n",
       "      <td>00001bf2e77ff879fab36aa4fac689b9ba411dae63ae39...</td>\n",
       "      <td>4783907996972277493</td>\n",
       "    </tr>\n",
       "    <tr>\n",
       "      <th>2</th>\n",
       "      <td>0000210045da4f81e5f122c6bde5c2a617d03eef67f82c...</td>\n",
       "      <td>4616129756878093544</td>\n",
       "    </tr>\n",
       "    <tr>\n",
       "      <th>3</th>\n",
       "      <td>00003b41e58ede33b8daf61ab56d9952f17c9ad1c3976c...</td>\n",
       "      <td>-1916505587365783916</td>\n",
       "    </tr>\n",
       "    <tr>\n",
       "      <th>4</th>\n",
       "      <td>00004b22eaeeeb0ec976890c1d9bfc14fd9427e98c4ee9...</td>\n",
       "      <td>7583456031722841431</td>\n",
       "    </tr>\n",
       "  </tbody>\n",
       "</table>\n",
       "</div>"
      ],
      "text/plain": [
       "                                        customer_ID2          customer_ID\n",
       "0  00000469ba478561f23a92a868bd366de6f6527a684c9a...  8717704911770597815\n",
       "1  00001bf2e77ff879fab36aa4fac689b9ba411dae63ae39...  4783907996972277493\n",
       "2  0000210045da4f81e5f122c6bde5c2a617d03eef67f82c...  4616129756878093544\n",
       "3  00003b41e58ede33b8daf61ab56d9952f17c9ad1c3976c... -1916505587365783916\n",
       "4  00004b22eaeeeb0ec976890c1d9bfc14fd9427e98c4ee9...  7583456031722841431"
      ]
     },
     "execution_count": 5,
     "metadata": {},
     "output_type": "execute_result"
    }
   ],
   "source": [
    "test_ID_list.head()"
   ]
  },
  {
   "cell_type": "code",
   "execution_count": 7,
   "id": "43cf0441-edc8-4cd0-bf07-2b1de73a0c79",
   "metadata": {},
   "outputs": [
    {
     "data": {
      "text/plain": [
       "customer_ID2    object\n",
       "customer_ID      int64\n",
       "dtype: object"
      ]
     },
     "execution_count": 7,
     "metadata": {},
     "output_type": "execute_result"
    }
   ],
   "source": [
    "# test.merge(test_ID_list,on = \"customer_ID\",how = \"left\")\n",
    "test_ID_list.dtypes"
   ]
  },
  {
   "cell_type": "code",
   "execution_count": 10,
   "id": "aacf6311-8300-43c2-a1f6-966547371e2e",
   "metadata": {},
   "outputs": [
    {
     "data": {
      "text/plain": [
       "customer_ID    float64\n",
       "prediction     float64\n",
       "dtype: object"
      ]
     },
     "execution_count": 10,
     "metadata": {},
     "output_type": "execute_result"
    }
   ],
   "source": [
    "# test['customer_ID'].astype('int')\n",
    "test.dtypes"
   ]
  },
  {
   "cell_type": "code",
   "execution_count": 13,
   "id": "13ee9ba9-5b53-4e89-9e22-5ddd81a6631a",
   "metadata": {},
   "outputs": [
    {
     "data": {
      "text/html": [
       "<div>\n",
       "<style scoped>\n",
       "    .dataframe tbody tr th:only-of-type {\n",
       "        vertical-align: middle;\n",
       "    }\n",
       "\n",
       "    .dataframe tbody tr th {\n",
       "        vertical-align: top;\n",
       "    }\n",
       "\n",
       "    .dataframe thead th {\n",
       "        text-align: right;\n",
       "    }\n",
       "</style>\n",
       "<table border=\"1\" class=\"dataframe\">\n",
       "  <thead>\n",
       "    <tr style=\"text-align: right;\">\n",
       "      <th></th>\n",
       "      <th>customer_ID2</th>\n",
       "      <th>customer_ID</th>\n",
       "    </tr>\n",
       "  </thead>\n",
       "  <tbody>\n",
       "    <tr>\n",
       "      <th>0</th>\n",
       "      <td>00000469ba478561f23a92a868bd366de6f6527a684c9a...</td>\n",
       "      <td>8.717705e+18</td>\n",
       "    </tr>\n",
       "    <tr>\n",
       "      <th>1</th>\n",
       "      <td>00001bf2e77ff879fab36aa4fac689b9ba411dae63ae39...</td>\n",
       "      <td>4.783908e+18</td>\n",
       "    </tr>\n",
       "    <tr>\n",
       "      <th>2</th>\n",
       "      <td>0000210045da4f81e5f122c6bde5c2a617d03eef67f82c...</td>\n",
       "      <td>4.616130e+18</td>\n",
       "    </tr>\n",
       "    <tr>\n",
       "      <th>3</th>\n",
       "      <td>00003b41e58ede33b8daf61ab56d9952f17c9ad1c3976c...</td>\n",
       "      <td>-1.916506e+18</td>\n",
       "    </tr>\n",
       "    <tr>\n",
       "      <th>4</th>\n",
       "      <td>00004b22eaeeeb0ec976890c1d9bfc14fd9427e98c4ee9...</td>\n",
       "      <td>7.583456e+18</td>\n",
       "    </tr>\n",
       "  </tbody>\n",
       "</table>\n",
       "</div>"
      ],
      "text/plain": [
       "                                        customer_ID2   customer_ID\n",
       "0  00000469ba478561f23a92a868bd366de6f6527a684c9a...  8.717705e+18\n",
       "1  00001bf2e77ff879fab36aa4fac689b9ba411dae63ae39...  4.783908e+18\n",
       "2  0000210045da4f81e5f122c6bde5c2a617d03eef67f82c...  4.616130e+18\n",
       "3  00003b41e58ede33b8daf61ab56d9952f17c9ad1c3976c... -1.916506e+18\n",
       "4  00004b22eaeeeb0ec976890c1d9bfc14fd9427e98c4ee9...  7.583456e+18"
      ]
     },
     "execution_count": 13,
     "metadata": {},
     "output_type": "execute_result"
    }
   ],
   "source": [
    "test_ID_list['customer_ID'] = test_ID_list['customer_ID'].astype('float64')\n",
    "test_ID_list.head()"
   ]
  },
  {
   "cell_type": "code",
   "execution_count": 14,
   "id": "ad6e14bb-a2ef-4d18-8068-77290407750f",
   "metadata": {},
   "outputs": [
    {
     "data": {
      "text/html": [
       "<div>\n",
       "<style scoped>\n",
       "    .dataframe tbody tr th:only-of-type {\n",
       "        vertical-align: middle;\n",
       "    }\n",
       "\n",
       "    .dataframe tbody tr th {\n",
       "        vertical-align: top;\n",
       "    }\n",
       "\n",
       "    .dataframe thead th {\n",
       "        text-align: right;\n",
       "    }\n",
       "</style>\n",
       "<table border=\"1\" class=\"dataframe\">\n",
       "  <thead>\n",
       "    <tr style=\"text-align: right;\">\n",
       "      <th></th>\n",
       "      <th>customer_ID</th>\n",
       "      <th>prediction</th>\n",
       "      <th>customer_ID2</th>\n",
       "    </tr>\n",
       "  </thead>\n",
       "  <tbody>\n",
       "    <tr>\n",
       "      <th>0</th>\n",
       "      <td>-9.223277e+18</td>\n",
       "      <td>0.006342</td>\n",
       "      <td>7b591255f20c3e5cb9035580c57aeed4979d25b9a2416e...</td>\n",
       "    </tr>\n",
       "    <tr>\n",
       "      <th>1</th>\n",
       "      <td>-9.223220e+18</td>\n",
       "      <td>0.003303</td>\n",
       "      <td>NaN</td>\n",
       "    </tr>\n",
       "    <tr>\n",
       "      <th>2</th>\n",
       "      <td>-9.223219e+18</td>\n",
       "      <td>0.010416</td>\n",
       "      <td>b624db6a2300eb42f29b94c165c7361e3cd49453c2f069...</td>\n",
       "    </tr>\n",
       "    <tr>\n",
       "      <th>3</th>\n",
       "      <td>-9.223203e+18</td>\n",
       "      <td>0.012527</td>\n",
       "      <td>NaN</td>\n",
       "    </tr>\n",
       "    <tr>\n",
       "      <th>4</th>\n",
       "      <td>-9.223190e+18</td>\n",
       "      <td>0.002053</td>\n",
       "      <td>NaN</td>\n",
       "    </tr>\n",
       "    <tr>\n",
       "      <th>...</th>\n",
       "      <td>...</td>\n",
       "      <td>...</td>\n",
       "      <td>...</td>\n",
       "    </tr>\n",
       "    <tr>\n",
       "      <th>924616</th>\n",
       "      <td>9.223091e+18</td>\n",
       "      <td>0.049807</td>\n",
       "      <td>820226120d3b500d783dd1fae52dbb78fefce67adc76aa...</td>\n",
       "    </tr>\n",
       "    <tr>\n",
       "      <th>924617</th>\n",
       "      <td>9.223211e+18</td>\n",
       "      <td>0.722217</td>\n",
       "      <td>NaN</td>\n",
       "    </tr>\n",
       "    <tr>\n",
       "      <th>924618</th>\n",
       "      <td>9.223252e+18</td>\n",
       "      <td>0.094846</td>\n",
       "      <td>NaN</td>\n",
       "    </tr>\n",
       "    <tr>\n",
       "      <th>924619</th>\n",
       "      <td>9.223264e+18</td>\n",
       "      <td>0.701361</td>\n",
       "      <td>NaN</td>\n",
       "    </tr>\n",
       "    <tr>\n",
       "      <th>924620</th>\n",
       "      <td>9.223342e+18</td>\n",
       "      <td>0.002244</td>\n",
       "      <td>6a4ea19548cf6e68ba2496a849913b43711a443dc404a1...</td>\n",
       "    </tr>\n",
       "  </tbody>\n",
       "</table>\n",
       "<p>924621 rows × 3 columns</p>\n",
       "</div>"
      ],
      "text/plain": [
       "         customer_ID  prediction                                       customer_ID2\n",
       "0      -9.223277e+18    0.006342  7b591255f20c3e5cb9035580c57aeed4979d25b9a2416e...\n",
       "1      -9.223220e+18    0.003303                                                NaN\n",
       "2      -9.223219e+18    0.010416  b624db6a2300eb42f29b94c165c7361e3cd49453c2f069...\n",
       "3      -9.223203e+18    0.012527                                                NaN\n",
       "4      -9.223190e+18    0.002053                                                NaN\n",
       "...              ...         ...                                                ...\n",
       "924616  9.223091e+18    0.049807  820226120d3b500d783dd1fae52dbb78fefce67adc76aa...\n",
       "924617  9.223211e+18    0.722217                                                NaN\n",
       "924618  9.223252e+18    0.094846                                                NaN\n",
       "924619  9.223264e+18    0.701361                                                NaN\n",
       "924620  9.223342e+18    0.002244  6a4ea19548cf6e68ba2496a849913b43711a443dc404a1...\n",
       "\n",
       "[924621 rows x 3 columns]"
      ]
     },
     "execution_count": 14,
     "metadata": {},
     "output_type": "execute_result"
    }
   ],
   "source": [
    "test.merge(test_ID_list,on = \"customer_ID\",how = \"left\")"
   ]
  },
  {
   "cell_type": "code",
   "execution_count": null,
   "id": "8f158c7a-9dfb-4d9b-a086-60cbb111e1ec",
   "metadata": {},
   "outputs": [],
   "source": []
  },
  {
   "cell_type": "code",
   "execution_count": null,
   "id": "10f2368c-c43f-4a46-9e1d-45c2134934fc",
   "metadata": {},
   "outputs": [],
   "source": []
  },
  {
   "cell_type": "code",
   "execution_count": null,
   "id": "b81d05c2-ebab-454f-be03-7962bfad1605",
   "metadata": {},
   "outputs": [],
   "source": []
  }
 ],
 "metadata": {
  "kernelspec": {
   "display_name": "amex",
   "language": "python",
   "name": "amex"
  },
  "language_info": {
   "codemirror_mode": {
    "name": "ipython",
    "version": 3
   },
   "file_extension": ".py",
   "mimetype": "text/x-python",
   "name": "python",
   "nbconvert_exporter": "python",
   "pygments_lexer": "ipython3",
   "version": "3.7.13"
  }
 },
 "nbformat": 4,
 "nbformat_minor": 5
}
