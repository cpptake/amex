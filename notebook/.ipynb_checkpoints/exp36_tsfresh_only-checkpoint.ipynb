{
 "cells": [
  {
   "cell_type": "markdown",
   "id": "1051d12d",
   "metadata": {},
   "source": [
    "# ここ参照"
   ]
  },
  {
   "cell_type": "markdown",
   "id": "b41c3596-eb82-47f1-a628-fa49f1030cfa",
   "metadata": {},
   "source": [
    "https://www.kaggle.com/takeshikobayashi/exp39-pytorch-mlp-bagging-train-step\n",
    "\n"
   ]
  },
  {
   "cell_type": "code",
   "execution_count": null,
   "id": "926d8fd6-15e7-4dd3-a609-450c1ef7866a",
   "metadata": {},
   "outputs": [],
   "source": []
  }
 ],
 "metadata": {
  "kernelspec": {
   "display_name": "Python 3 (ipykernel)",
   "language": "python",
   "name": "python3"
  },
  "language_info": {
   "codemirror_mode": {
    "name": "ipython",
    "version": 3
   },
   "file_extension": ".py",
   "mimetype": "text/x-python",
   "name": "python",
   "nbconvert_exporter": "python",
   "pygments_lexer": "ipython3",
   "version": "3.7.13"
  }
 },
 "nbformat": 4,
 "nbformat_minor": 5
}
