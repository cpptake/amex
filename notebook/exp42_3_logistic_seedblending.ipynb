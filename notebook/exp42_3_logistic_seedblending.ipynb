{
 "cells": [
  {
   "cell_type": "markdown",
   "id": "7028823f-8d11-494b-b422-a2664d8e3626",
   "metadata": {},
   "source": [
    "# seedbleniding\n",
    "\n",
    "exp40,exp49 のseed42,614\n"
   ]
  },
  {
   "cell_type": "code",
   "execution_count": 2,
   "id": "eed56fea-97c5-46d0-a7d0-73d6956279dd",
   "metadata": {},
   "outputs": [],
   "source": [
    "import os\n",
    "import gc\n",
    "import warnings\n",
    "warnings.filterwarnings('ignore')\n",
    "import random\n",
    "import scipy as sp\n",
    "import numpy as np\n",
    "import pandas as pd\n",
    "import joblib\n",
    "import itertools\n",
    "pd.set_option('display.max_rows', 500)\n",
    "pd.set_option('display.max_columns', 500)\n",
    "pd.set_option('display.width', 1000)\n",
    "from tqdm.auto import tqdm\n",
    "from sklearn.model_selection import StratifiedKFold, train_test_split\n",
    "from sklearn.preprocessing import LabelEncoder\n",
    "import lightgbm as lgb\n",
    "from itertools import combinations\n",
    "\n",
    "import pickle"
   ]
  },
  {
   "cell_type": "code",
   "execution_count": 5,
   "id": "fa9bd0c1-9bfb-4263-9e41-479425343358",
   "metadata": {},
   "outputs": [],
   "source": [
    "train_42 = pd.read_csv(\"../output/exp42_2_logistic_lagdiff_c3/oof_exp42_3_logistic_0.782316702096232_5fold_seed42.csv\")\n",
    "test_42 = pd.read_csv(\"../output/exp42_2_logistic_lagdiff_c3/test_exp42_3_logistic_0.782316702096232_5fold_seed42.csv\")\n",
    "\n",
    "train_616 = pd.read_csv(\"../output/exp42_3_616_logistic/oof_exp42_3_logistic_0.7824760851833245_5fold_seed616.csv\")\n",
    "test_616 = pd.read_csv(\"../output/exp42_3_616_logistic/test_exp42_3_logistic_0.7824760851833245_5fold_seed616.csv\")\n",
    "\n"
   ]
  },
  {
   "cell_type": "code",
   "execution_count": 4,
   "id": "cd748b42-3e56-45dc-9acc-83cfeb61f6dd",
   "metadata": {},
   "outputs": [
    {
     "data": {
      "text/html": [
       "<div>\n",
       "<style scoped>\n",
       "    .dataframe tbody tr th:only-of-type {\n",
       "        vertical-align: middle;\n",
       "    }\n",
       "\n",
       "    .dataframe tbody tr th {\n",
       "        vertical-align: top;\n",
       "    }\n",
       "\n",
       "    .dataframe thead th {\n",
       "        text-align: right;\n",
       "    }\n",
       "</style>\n",
       "<table border=\"1\" class=\"dataframe\">\n",
       "  <thead>\n",
       "    <tr style=\"text-align: right;\">\n",
       "      <th></th>\n",
       "      <th>customer_ID</th>\n",
       "      <th>target</th>\n",
       "      <th>exp42_3_logistic_oof</th>\n",
       "    </tr>\n",
       "  </thead>\n",
       "  <tbody>\n",
       "    <tr>\n",
       "      <th>0</th>\n",
       "      <td>0001812036f1558332e5c0880ecbad70b13a6f28ab04a8...</td>\n",
       "      <td>1</td>\n",
       "      <td>0.633278</td>\n",
       "    </tr>\n",
       "    <tr>\n",
       "      <th>1</th>\n",
       "      <td>00031e8be98bc3411f6037cbd4d3eeaf24b3ae221682b7...</td>\n",
       "      <td>0</td>\n",
       "      <td>0.040596</td>\n",
       "    </tr>\n",
       "    <tr>\n",
       "      <th>2</th>\n",
       "      <td>0004860c260168fcaad0734a1dfedb7ceb1a83aaac54e2...</td>\n",
       "      <td>1</td>\n",
       "      <td>0.999608</td>\n",
       "    </tr>\n",
       "    <tr>\n",
       "      <th>3</th>\n",
       "      <td>0004b8596c4946866d1b27a8b40488ecf49c6eae9c7bf4...</td>\n",
       "      <td>0</td>\n",
       "      <td>0.004494</td>\n",
       "    </tr>\n",
       "    <tr>\n",
       "      <th>4</th>\n",
       "      <td>000548e99fa24cef8377e68e602e4bd70d30500a007999...</td>\n",
       "      <td>0</td>\n",
       "      <td>0.001249</td>\n",
       "    </tr>\n",
       "  </tbody>\n",
       "</table>\n",
       "</div>"
      ],
      "text/plain": [
       "                                         customer_ID  target  exp42_3_logistic_oof\n",
       "0  0001812036f1558332e5c0880ecbad70b13a6f28ab04a8...       1              0.633278\n",
       "1  00031e8be98bc3411f6037cbd4d3eeaf24b3ae221682b7...       0              0.040596\n",
       "2  0004860c260168fcaad0734a1dfedb7ceb1a83aaac54e2...       1              0.999608\n",
       "3  0004b8596c4946866d1b27a8b40488ecf49c6eae9c7bf4...       0              0.004494\n",
       "4  000548e99fa24cef8377e68e602e4bd70d30500a007999...       0              0.001249"
      ]
     },
     "execution_count": 4,
     "metadata": {},
     "output_type": "execute_result"
    }
   ],
   "source": [
    "train_42.head()"
   ]
  },
  {
   "cell_type": "code",
   "execution_count": 6,
   "id": "3166621f-35b0-4580-a90c-e480f3795d63",
   "metadata": {},
   "outputs": [
    {
     "data": {
      "text/html": [
       "<div>\n",
       "<style scoped>\n",
       "    .dataframe tbody tr th:only-of-type {\n",
       "        vertical-align: middle;\n",
       "    }\n",
       "\n",
       "    .dataframe tbody tr th {\n",
       "        vertical-align: top;\n",
       "    }\n",
       "\n",
       "    .dataframe thead th {\n",
       "        text-align: right;\n",
       "    }\n",
       "</style>\n",
       "<table border=\"1\" class=\"dataframe\">\n",
       "  <thead>\n",
       "    <tr style=\"text-align: right;\">\n",
       "      <th></th>\n",
       "      <th>customer_ID</th>\n",
       "      <th>target</th>\n",
       "      <th>exp42_3_logistic_oof</th>\n",
       "    </tr>\n",
       "  </thead>\n",
       "  <tbody>\n",
       "    <tr>\n",
       "      <th>0</th>\n",
       "      <td>000041bdba6ecadd89a52d11886e8eaaec9325906c9723...</td>\n",
       "      <td>0</td>\n",
       "      <td>0.011146</td>\n",
       "    </tr>\n",
       "    <tr>\n",
       "      <th>1</th>\n",
       "      <td>000084e5023181993c2e1b665ac88dbb1ce9ef621ec537...</td>\n",
       "      <td>0</td>\n",
       "      <td>0.010803</td>\n",
       "    </tr>\n",
       "    <tr>\n",
       "      <th>2</th>\n",
       "      <td>0001812036f1558332e5c0880ecbad70b13a6f28ab04a8...</td>\n",
       "      <td>1</td>\n",
       "      <td>0.663020</td>\n",
       "    </tr>\n",
       "    <tr>\n",
       "      <th>3</th>\n",
       "      <td>00031e8be98bc3411f6037cbd4d3eeaf24b3ae221682b7...</td>\n",
       "      <td>0</td>\n",
       "      <td>0.038112</td>\n",
       "    </tr>\n",
       "    <tr>\n",
       "      <th>4</th>\n",
       "      <td>0004e00358fc4dd633e491c8090a0794b6165ed9a7e60c...</td>\n",
       "      <td>0</td>\n",
       "      <td>0.001055</td>\n",
       "    </tr>\n",
       "  </tbody>\n",
       "</table>\n",
       "</div>"
      ],
      "text/plain": [
       "                                         customer_ID  target  exp42_3_logistic_oof\n",
       "0  000041bdba6ecadd89a52d11886e8eaaec9325906c9723...       0              0.011146\n",
       "1  000084e5023181993c2e1b665ac88dbb1ce9ef621ec537...       0              0.010803\n",
       "2  0001812036f1558332e5c0880ecbad70b13a6f28ab04a8...       1              0.663020\n",
       "3  00031e8be98bc3411f6037cbd4d3eeaf24b3ae221682b7...       0              0.038112\n",
       "4  0004e00358fc4dd633e491c8090a0794b6165ed9a7e60c...       0              0.001055"
      ]
     },
     "execution_count": 6,
     "metadata": {},
     "output_type": "execute_result"
    }
   ],
   "source": [
    "train_616.head()"
   ]
  },
  {
   "cell_type": "code",
   "execution_count": 7,
   "id": "1082b337-ff80-4749-a992-bdb25f1fb49e",
   "metadata": {},
   "outputs": [],
   "source": [
    "oof = train_42.merge(train_616,on = \"customer_ID\")\n",
    "sub = test_42.merge(test_616,on = \"customer_ID\")\n"
   ]
  },
  {
   "cell_type": "code",
   "execution_count": 8,
   "id": "fa5fcc9b-adf3-471c-8ea0-b0039a2b2f61",
   "metadata": {},
   "outputs": [
    {
     "data": {
      "text/html": [
       "<div>\n",
       "<style scoped>\n",
       "    .dataframe tbody tr th:only-of-type {\n",
       "        vertical-align: middle;\n",
       "    }\n",
       "\n",
       "    .dataframe tbody tr th {\n",
       "        vertical-align: top;\n",
       "    }\n",
       "\n",
       "    .dataframe thead th {\n",
       "        text-align: right;\n",
       "    }\n",
       "</style>\n",
       "<table border=\"1\" class=\"dataframe\">\n",
       "  <thead>\n",
       "    <tr style=\"text-align: right;\">\n",
       "      <th></th>\n",
       "      <th>customer_ID</th>\n",
       "      <th>prediction_x</th>\n",
       "      <th>prediction_y</th>\n",
       "    </tr>\n",
       "  </thead>\n",
       "  <tbody>\n",
       "    <tr>\n",
       "      <th>0</th>\n",
       "      <td>00000469ba478561f23a92a868bd366de6f6527a684c9a...</td>\n",
       "      <td>0.026778</td>\n",
       "      <td>0.026887</td>\n",
       "    </tr>\n",
       "    <tr>\n",
       "      <th>1</th>\n",
       "      <td>00001bf2e77ff879fab36aa4fac689b9ba411dae63ae39...</td>\n",
       "      <td>0.002919</td>\n",
       "      <td>0.002905</td>\n",
       "    </tr>\n",
       "    <tr>\n",
       "      <th>2</th>\n",
       "      <td>0000210045da4f81e5f122c6bde5c2a617d03eef67f82c...</td>\n",
       "      <td>0.054579</td>\n",
       "      <td>0.053841</td>\n",
       "    </tr>\n",
       "    <tr>\n",
       "      <th>3</th>\n",
       "      <td>00003b41e58ede33b8daf61ab56d9952f17c9ad1c3976c...</td>\n",
       "      <td>0.214095</td>\n",
       "      <td>0.210052</td>\n",
       "    </tr>\n",
       "    <tr>\n",
       "      <th>4</th>\n",
       "      <td>00004b22eaeeeb0ec976890c1d9bfc14fd9427e98c4ee9...</td>\n",
       "      <td>0.857592</td>\n",
       "      <td>0.856282</td>\n",
       "    </tr>\n",
       "  </tbody>\n",
       "</table>\n",
       "</div>"
      ],
      "text/plain": [
       "                                         customer_ID  prediction_x  prediction_y\n",
       "0  00000469ba478561f23a92a868bd366de6f6527a684c9a...      0.026778      0.026887\n",
       "1  00001bf2e77ff879fab36aa4fac689b9ba411dae63ae39...      0.002919      0.002905\n",
       "2  0000210045da4f81e5f122c6bde5c2a617d03eef67f82c...      0.054579      0.053841\n",
       "3  00003b41e58ede33b8daf61ab56d9952f17c9ad1c3976c...      0.214095      0.210052\n",
       "4  00004b22eaeeeb0ec976890c1d9bfc14fd9427e98c4ee9...      0.857592      0.856282"
      ]
     },
     "execution_count": 8,
     "metadata": {},
     "output_type": "execute_result"
    }
   ],
   "source": [
    "sub.head()"
   ]
  },
  {
   "cell_type": "code",
   "execution_count": 9,
   "id": "c94295f0-9753-4504-9079-4c820acfd93e",
   "metadata": {},
   "outputs": [
    {
     "data": {
      "text/html": [
       "<div>\n",
       "<style scoped>\n",
       "    .dataframe tbody tr th:only-of-type {\n",
       "        vertical-align: middle;\n",
       "    }\n",
       "\n",
       "    .dataframe tbody tr th {\n",
       "        vertical-align: top;\n",
       "    }\n",
       "\n",
       "    .dataframe thead th {\n",
       "        text-align: right;\n",
       "    }\n",
       "</style>\n",
       "<table border=\"1\" class=\"dataframe\">\n",
       "  <thead>\n",
       "    <tr style=\"text-align: right;\">\n",
       "      <th></th>\n",
       "      <th>customer_ID</th>\n",
       "      <th>target_x</th>\n",
       "      <th>exp42_3_logistic_oof_x</th>\n",
       "      <th>target_y</th>\n",
       "      <th>exp42_3_logistic_oof_y</th>\n",
       "    </tr>\n",
       "  </thead>\n",
       "  <tbody>\n",
       "    <tr>\n",
       "      <th>0</th>\n",
       "      <td>0001812036f1558332e5c0880ecbad70b13a6f28ab04a8...</td>\n",
       "      <td>1</td>\n",
       "      <td>0.633278</td>\n",
       "      <td>1</td>\n",
       "      <td>0.663020</td>\n",
       "    </tr>\n",
       "    <tr>\n",
       "      <th>1</th>\n",
       "      <td>00031e8be98bc3411f6037cbd4d3eeaf24b3ae221682b7...</td>\n",
       "      <td>0</td>\n",
       "      <td>0.040596</td>\n",
       "      <td>0</td>\n",
       "      <td>0.038112</td>\n",
       "    </tr>\n",
       "    <tr>\n",
       "      <th>2</th>\n",
       "      <td>0004860c260168fcaad0734a1dfedb7ceb1a83aaac54e2...</td>\n",
       "      <td>1</td>\n",
       "      <td>0.999608</td>\n",
       "      <td>1</td>\n",
       "      <td>0.999507</td>\n",
       "    </tr>\n",
       "    <tr>\n",
       "      <th>3</th>\n",
       "      <td>0004b8596c4946866d1b27a8b40488ecf49c6eae9c7bf4...</td>\n",
       "      <td>0</td>\n",
       "      <td>0.004494</td>\n",
       "      <td>0</td>\n",
       "      <td>0.004395</td>\n",
       "    </tr>\n",
       "    <tr>\n",
       "      <th>4</th>\n",
       "      <td>000548e99fa24cef8377e68e602e4bd70d30500a007999...</td>\n",
       "      <td>0</td>\n",
       "      <td>0.001249</td>\n",
       "      <td>0</td>\n",
       "      <td>0.001304</td>\n",
       "    </tr>\n",
       "  </tbody>\n",
       "</table>\n",
       "</div>"
      ],
      "text/plain": [
       "                                         customer_ID  target_x  exp42_3_logistic_oof_x  target_y  exp42_3_logistic_oof_y\n",
       "0  0001812036f1558332e5c0880ecbad70b13a6f28ab04a8...         1                0.633278         1                0.663020\n",
       "1  00031e8be98bc3411f6037cbd4d3eeaf24b3ae221682b7...         0                0.040596         0                0.038112\n",
       "2  0004860c260168fcaad0734a1dfedb7ceb1a83aaac54e2...         1                0.999608         1                0.999507\n",
       "3  0004b8596c4946866d1b27a8b40488ecf49c6eae9c7bf4...         0                0.004494         0                0.004395\n",
       "4  000548e99fa24cef8377e68e602e4bd70d30500a007999...         0                0.001249         0                0.001304"
      ]
     },
     "execution_count": 9,
     "metadata": {},
     "output_type": "execute_result"
    }
   ],
   "source": [
    "oof.head()"
   ]
  },
  {
   "cell_type": "code",
   "execution_count": 10,
   "id": "a89d797a-2562-418c-8dc5-4f8d78cc8e2b",
   "metadata": {},
   "outputs": [],
   "source": [
    "oof[\"exp42_42+616_oof\"] = (oof[\"exp42_3_logistic_oof_x\"] + oof[\"exp42_3_logistic_oof_y\"])/2\n",
    "sub[\"prediction\"] = (sub[\"prediction_x\"] + sub[\"prediction_y\"])/2 "
   ]
  },
  {
   "cell_type": "code",
   "execution_count": 12,
   "id": "5eb5ddc9-499a-4643-b1fe-58190973a268",
   "metadata": {},
   "outputs": [
    {
     "name": "stdout",
     "output_type": "stream",
     "text": [
      "CV :  0.7828114243647253\n"
     ]
    }
   ],
   "source": [
    "def amex_metric(y_true, y_pred):\n",
    "    labels = np.transpose(np.array([y_true, y_pred]))\n",
    "    labels = labels[labels[:, 1].argsort()[::-1]]\n",
    "    weights = np.where(labels[:,0]==0, 20, 1)\n",
    "    cut_vals = labels[np.cumsum(weights) <= int(0.04 * np.sum(weights))]\n",
    "    top_four = np.sum(cut_vals[:,0]) / np.sum(labels[:,0])\n",
    "    gini = [0,0]\n",
    "    for i in [1,0]:\n",
    "        labels = np.transpose(np.array([y_true, y_pred]))\n",
    "        labels = labels[labels[:, i].argsort()[::-1]]\n",
    "        weight = np.where(labels[:,0]==0, 20, 1)\n",
    "        weight_random = np.cumsum(weight / np.sum(weight))\n",
    "        total_pos = np.sum(labels[:, 0] *  weight)\n",
    "        cum_pos_found = np.cumsum(labels[:, 0] * weight)\n",
    "        lorentz = cum_pos_found / total_pos\n",
    "        gini[i] = np.sum((lorentz - weight_random) * weight)\n",
    "    return 0.5 * (gini[1]/gini[0] + top_four)\n",
    "\n",
    "\n",
    "score = amex_metric(oof[\"target_x\"], oof[\"exp42_42+616_oof\"])\n",
    "print(\"CV : \",score)"
   ]
  },
  {
   "cell_type": "code",
   "execution_count": 13,
   "id": "b802789e-1ef7-41ac-8240-56a310dd60ff",
   "metadata": {},
   "outputs": [],
   "source": [
    "oof[[\"customer_ID\",\"exp42_42+616_oof\"]].to_csv(f\"exp42_oof_logist_{score}_seedblend.csv\",index = False)\n",
    "sub[[\"customer_ID\",\"prediction\"]].to_csv(f\"exp51_sub_logist_{score}_seedblend.csv\",index = False)\n"
   ]
  },
  {
   "cell_type": "code",
   "execution_count": 15,
   "id": "4b4ed482-df71-4556-a7aa-e6f4c4a928ba",
   "metadata": {},
   "outputs": [
    {
     "data": {
      "text/plain": [
       "0.782316702096232"
      ]
     },
     "execution_count": 15,
     "metadata": {},
     "output_type": "execute_result"
    }
   ],
   "source": [
    "\n",
    "amex_metric(oof[\"target_x\"], oof[\"exp42_3_logistic_oof_x\"])"
   ]
  },
  {
   "cell_type": "code",
   "execution_count": null,
   "id": "e8ec12db-9040-43fe-9463-d0934229acfd",
   "metadata": {},
   "outputs": [],
   "source": []
  }
 ],
 "metadata": {
  "kernelspec": {
   "display_name": "amex",
   "language": "python",
   "name": "amex"
  },
  "language_info": {
   "codemirror_mode": {
    "name": "ipython",
    "version": 3
   },
   "file_extension": ".py",
   "mimetype": "text/x-python",
   "name": "python",
   "nbconvert_exporter": "python",
   "pygments_lexer": "ipython3",
   "version": "3.7.13"
  }
 },
 "nbformat": 4,
 "nbformat_minor": 5
}
